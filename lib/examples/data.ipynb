{
 "cells": [
  {
   "cell_type": "markdown",
   "metadata": {},
   "source": [
    "# Data\n",
    "by Ilya Zharikov"
   ]
  },
  {
   "cell_type": "code",
   "execution_count": 2,
   "metadata": {
    "collapsed": true
   },
   "outputs": [],
   "source": [
    "import numpy as np"
   ]
  },
  {
   "cell_type": "code",
   "execution_count": 3,
   "metadata": {
    "collapsed": true
   },
   "outputs": [],
   "source": [
    "def sampling_operator(nsamp, dims, seed=1):\n",
    "    \"\"\"\n",
    "    Sampling operator (uniform distribution)\n",
    "    Input:\n",
    "    nsamp : number of samples\n",
    "    dims : size of the matrix\n",
    "    seed : set random seed (default 1)\n",
    "    Output:\n",
    "    array of indices (size nsamp x 2)\n",
    "    \"\"\"\n",
    "    np.random.seed(seed)\n",
    "    idx = np.random.choice(np.prod(dims), nsamp, replace=False)\n",
    "    \n",
    "    return np.vstack(np.unravel_index(idx, dims)).T    "
   ]
  },
  {
   "cell_type": "code",
   "execution_count": 4,
   "metadata": {
    "collapsed": false
   },
   "outputs": [
    {
     "data": {
      "text/plain": [
       "array([[0, 2],\n",
       "       [0, 3],\n",
       "       [1, 0]])"
      ]
     },
     "execution_count": 4,
     "metadata": {},
     "output_type": "execute_result"
    }
   ],
   "source": [
    "sampling_operator(3, (3, 4), seed=1)"
   ]
  },
  {
   "cell_type": "markdown",
   "metadata": {},
   "source": [
    "---"
   ]
  },
  {
   "cell_type": "code",
   "execution_count": 5,
   "metadata": {
    "collapsed": true
   },
   "outputs": [],
   "source": [
    "def get_matrix(rank, dims, noise='n', sigma=1e-3, seed=1):\n",
    "    \"\"\"\n",
    "    Get synthetic matrices of desired rank\n",
    "    Input:\n",
    "    rank : rank of the matrix\n",
    "    dims : size of the matrix\n",
    "    noise : 'y' - with noise or \n",
    "            'n' - without noise (default 'n')\n",
    "            Noise from N(mean=0, variance=sigma).\n",
    "    sigma : variance of the noise (default 1e-3)\n",
    "    seed :set random seed (default 1)\n",
    "    Output:\n",
    "    M : matrix of the desired rank\n",
    "    \"\"\"\n",
    "    np.random.seed(seed)\n",
    "    M_l = np.random.randn(dims[0], rank)\n",
    "    M_r = np.random.randn(dims[1], rank)\n",
    "    M = M_l.dot(M_r.T)\n",
    "    if noise == 'y':\n",
    "        M += sigma * np.random.randn(M.shape[0], M.shape[1])\n",
    "    \n",
    "    return M"
   ]
  },
  {
   "cell_type": "code",
   "execution_count": 6,
   "metadata": {
    "collapsed": false
   },
   "outputs": [
    {
     "data": {
      "text/plain": [
       "array([[ 3.2998501 ,  0.6707836 ,  3.63527254, -0.28876918],\n",
       "       [-0.10480917,  0.09905915,  1.43822223,  0.58236993],\n",
       "       [ 3.26192055,  0.85003444,  6.00681293,  0.60489365]])"
      ]
     },
     "execution_count": 6,
     "metadata": {},
     "output_type": "execute_result"
    }
   ],
   "source": [
    "get_matrix(2, (3, 4))"
   ]
  },
  {
   "cell_type": "code",
   "execution_count": 7,
   "metadata": {
    "collapsed": false
   },
   "outputs": [
    {
     "data": {
      "text/plain": [
       "array([[ 3.30098387,  0.66968371,  3.63510011, -0.28964703],\n",
       "       [-0.10476695,  0.09964196,  1.43712161,  0.58351466],\n",
       "       [ 3.26282214,  0.85053693,  6.00771378,  0.60420992]])"
      ]
     },
     "execution_count": 7,
     "metadata": {},
     "output_type": "execute_result"
    }
   ],
   "source": [
    "get_matrix(2, (3, 4), 'y')"
   ]
  },
  {
   "cell_type": "markdown",
   "metadata": {},
   "source": [
    "---"
   ]
  },
  {
   "cell_type": "code",
   "execution_count": 8,
   "metadata": {
    "collapsed": true
   },
   "outputs": [],
   "source": [
    "def get_sampling_matrix(M, omega):\n",
    "    \"\"\"\n",
    "    Get sampling matrix\n",
    "    Input:\n",
    "    M : array like\n",
    "    omega : array of sampling indices\n",
    "    Output:\n",
    "    data: array like with sampling elements\n",
    "    \"\"\"\n",
    "    data = np.zeros(M.shape)\n",
    "    for i in xrange(omega.shape[0]):\n",
    "        data[omega[i, 0], omega[i, 1]] = M[omega[i, 0], omega[i, 1]]\n",
    "        \n",
    "    return data"
   ]
  },
  {
   "cell_type": "code",
   "execution_count": 9,
   "metadata": {
    "collapsed": false
   },
   "outputs": [
    {
     "data": {
      "text/plain": [
       "array([[ 0.        ,  0.        ,  3.63527254, -0.28876918],\n",
       "       [-0.10480917,  0.        ,  0.        ,  0.        ],\n",
       "       [ 0.        ,  0.        ,  0.        ,  0.        ]])"
      ]
     },
     "execution_count": 9,
     "metadata": {},
     "output_type": "execute_result"
    }
   ],
   "source": [
    "omega = sampling_operator(3, (3, 4), seed=1)\n",
    "M = get_matrix(2, (3, 4))\n",
    "get_sampling_matrix(M, omega)"
   ]
  },
  {
   "cell_type": "markdown",
   "metadata": {},
   "source": [
    "---"
   ]
  },
  {
   "cell_type": "code",
   "execution_count": 10,
   "metadata": {
    "collapsed": true
   },
   "outputs": [],
   "source": [
    "def get_sampling_vector(M, omega):\n",
    "    \"\"\"\n",
    "    Get sampling matrix\n",
    "    Input:\n",
    "    M : array like\n",
    "    omega : array of sampling indices\n",
    "    Output:\n",
    "    data: vector with sampling elements\n",
    "    \"\"\"\n",
    "    data = np.zeros(omega.shape[0])\n",
    "    for i in xrange(omega.shape[0]):\n",
    "        data[i] = M[omega[i, 0], omega[i, 1]]\n",
    "        \n",
    "    return data"
   ]
  },
  {
   "cell_type": "code",
   "execution_count": 11,
   "metadata": {
    "collapsed": false,
    "scrolled": true
   },
   "outputs": [
    {
     "data": {
      "text/plain": [
       "array([ 3.63527254, -0.28876918, -0.10480917])"
      ]
     },
     "execution_count": 11,
     "metadata": {},
     "output_type": "execute_result"
    }
   ],
   "source": [
    "get_sampling_vector(M, omega)"
   ]
  },
  {
   "cell_type": "markdown",
   "metadata": {},
   "source": [
    "---"
   ]
  },
  {
   "cell_type": "code",
   "execution_count": 12,
   "metadata": {
    "collapsed": true
   },
   "outputs": [],
   "source": [
    "def reconstruct_matrix(vec, omega, dims):\n",
    "    \"\"\"\n",
    "    Reconstruct sampling matrix from vector\n",
    "    Input:\n",
    "    vec : vector with sampling elements\n",
    "    omega : array of sampling indices\n",
    "    dims : size of the matrix\n",
    "    Output:\n",
    "    data: array like with sampling elements\n",
    "    \"\"\"\n",
    "    data = np.zeros(dims)\n",
    "    for i in xrange(omega.shape[0]):\n",
    "        data[omega[i, 0], omega[i, 1]] = vec[i]\n",
    "        \n",
    "    return data"
   ]
  },
  {
   "cell_type": "code",
   "execution_count": 13,
   "metadata": {
    "collapsed": false
   },
   "outputs": [
    {
     "data": {
      "text/plain": [
       "array([[ 0.        ,  0.        ,  3.63527254, -0.28876918],\n",
       "       [-0.10480917,  0.        ,  0.        ,  0.        ],\n",
       "       [ 0.        ,  0.        ,  0.        ,  0.        ]])"
      ]
     },
     "execution_count": 13,
     "metadata": {},
     "output_type": "execute_result"
    }
   ],
   "source": [
    "vec = get_sampling_vector(M, omega)\n",
    "reconstruct_matrix(vec, omega, M.shape)"
   ]
  },
  {
   "cell_type": "markdown",
   "metadata": {},
   "source": [
    "---"
   ]
  },
  {
   "cell_type": "code",
   "execution_count": 14,
   "metadata": {
    "collapsed": false
   },
   "outputs": [],
   "source": [
    "def get_data(data_type, rank, dims, noise='n', sigma=1e-3, seed=1):\n",
    "    \"\"\"\n",
    "    Get data\n",
    "    Input:\n",
    "    data_type : type of desired data\n",
    "    If data_type='synthetic' :\n",
    "        rank : rank of the matrix\n",
    "        dims : size of the matrix\n",
    "        noise : 'y' - with noise or \n",
    "                'n' - without noise (default 'n')\n",
    "                Noise from N(mean=0, variance=sigma).\n",
    "        sigma : variance of the noise (default 1e-3)\n",
    "        seed :set random seed (default 1)\n",
    "    Output:\n",
    "    M : matrix\n",
    "    \"\"\" \n",
    "    if data_type == 'synthetic':\n",
    "        M = get_matrix(rank, dims, noise, sigma, seed)\n",
    "    else:\n",
    "        print 'Not yet!'\n",
    "        return -1\n",
    "    \n",
    "    return M"
   ]
  },
  {
   "cell_type": "code",
   "execution_count": 15,
   "metadata": {
    "collapsed": false
   },
   "outputs": [
    {
     "data": {
      "text/plain": [
       "array([[ 3.2998501 ,  0.6707836 ,  3.63527254, -0.28876918],\n",
       "       [-0.10480917,  0.09905915,  1.43822223,  0.58236993],\n",
       "       [ 3.26192055,  0.85003444,  6.00681293,  0.60489365]])"
      ]
     },
     "execution_count": 15,
     "metadata": {},
     "output_type": "execute_result"
    }
   ],
   "source": [
    "get_data('synthetic', 2, (3, 4))"
   ]
  },
  {
   "cell_type": "code",
   "execution_count": null,
   "metadata": {
    "collapsed": true
   },
   "outputs": [],
   "source": []
  }
 ],
 "metadata": {
  "anaconda-cloud": {},
  "kernelspec": {
   "display_name": "Python [default]",
   "language": "python",
   "name": "python2"
  },
  "language_info": {
   "codemirror_mode": {
    "name": "ipython",
    "version": 2
   },
   "file_extension": ".py",
   "mimetype": "text/x-python",
   "name": "python",
   "nbconvert_exporter": "python",
   "pygments_lexer": "ipython2",
   "version": "2.7.12"
  }
 },
 "nbformat": 4,
 "nbformat_minor": 1
}
