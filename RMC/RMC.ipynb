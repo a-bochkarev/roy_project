{
 "cells": [
  {
   "cell_type": "markdown",
   "metadata": {},
   "source": [
    "# Robust Matrix Completion by Riemannian Optimization\n",
    "by Ilya Zharikov"
   ]
  },
  {
   "cell_type": "code",
   "execution_count": 3,
   "metadata": {
    "collapsed": true
   },
   "outputs": [],
   "source": [
    "import numpy as np\n",
    "import sys\n",
    "from scipy.sparse import csr_matrix, csc_matrix\n",
    "from scipy.sparse.linalg import svds, norm, eigs\n",
    "from skimage import io, color\n",
    "import matplotlib.pyplot as plt\n",
    "%matplotlib inline\n",
    "import time\n",
    "sys.path.append('./../')\n",
    "from data import *\n",
    "from errors import *"
   ]
  },
  {
   "cell_type": "code",
   "execution_count": 25,
   "metadata": {
    "collapsed": true
   },
   "outputs": [],
   "source": [
    "def get_f(delta, X, omega, vec_data, lam):\n",
    "    X_vec = get_sampling_vector(X, omega)\n",
    "    return (np.sum(np.sqrt(delta**2 + (X_vec - vec_data)**2)) \n",
    "            + lam * (np.linalg.norm(X, 'fro') - np.linalg.norm(X_vec)))\n",
    "\n",
    "def get_S(delta, X_vec, omega, vec_data, lam, dims):\n",
    "    S = np.zeros(omega.shape[0])\n",
    "    S = (X_vec - vec_data) /  np.sqrt(delta**2 + (X_vec - vec_data)**2) - 2*lam*X_vec\n",
    "    return reconstruct_matrix(S, omega, dims)\n",
    "\n",
    "def get_project_UEV(U, E, V, S, lam):\n",
    "    U_ = S.dot(V) - U.dot(U.T.dot(S.dot(V)))\n",
    "    E_ = U.T.dot(S.dot(V)) + 2*lam*E\n",
    "    V_ = S.T.dot(U) - V.dot(V.T.dot(S.T.dot(U)))\n",
    "    return U_, E_, V_\n",
    "\n",
    "def grad_f(delta, X, omega, vec_data, lam, dims):\n",
    "    U, E, V = np.linalg.svd(X)\n",
    "    V = V.T\n",
    "    E = np.diag(E)\n",
    "    X_vec = get_sampling_vector(X, omega)\n",
    "    S = get_S(delta, X_vec, omega, vec_data, lam, dims)\n",
    "    U_, E_, V_ = get_project_UEV(U, E, V, S, lam)\n",
    "    return U.dot(E_.dot(V.T)) + U_.dot(V.T) + U.dot(V_.T)\n",
    "\n",
    "def RG(delta, X, omega, vec_data, lam, dims, tol):\n",
    "    tau = 0.05\n",
    "    cnt = 1\n",
    "    X_pred = X.copy()\n",
    "    eps = np.inf\n",
    "    while (eps > tol*1e-1) & (cnt < 1e4):\n",
    "        grad = grad_f(delta, X_pred, omega, vec_data, lam, dims)\n",
    "        X_next = X_pred - tau*grad\n",
    "        #tau = 1. / cnt\n",
    "        #tau *= 0.9\n",
    "        eps = RMSE(X_pred, X_next)\n",
    "        X_pred = X_next.copy()\n",
    "        cnt += 1\n",
    "    return X_next\n",
    "\n",
    "def RMC(omega, vec_data, dims, X_0, delta_0, theta, tol, lam):\n",
    "    f_pred = np.inf\n",
    "    k = 0\n",
    "    delta_pred = delta_0\n",
    "    X_pred = X_0.copy()\n",
    "    eps = np.inf\n",
    "    while (eps > tol):\n",
    "        X_opt = X_pred.copy()\n",
    "        X_next = RG(delta_pred, X_pred, omega, vec_data, lam, dims, tol)\n",
    "        f_next = get_f(delta_pred, X_next, omega, vec_data, lam)\n",
    "        eps = f_pred - f_next\n",
    "        delta_next = theta * delta_pred\n",
    "        \n",
    "        f_pred = f_next\n",
    "        X_pred = X_next.copy()\n",
    "        delta_pred = delta_next\n",
    "        print eps, tol\n",
    "        \n",
    "    return X_opt"
   ]
  },
  {
   "cell_type": "code",
   "execution_count": 29,
   "metadata": {
    "collapsed": false,
    "scrolled": false
   },
   "outputs": [
    {
     "name": "stdout",
     "output_type": "stream",
     "text": [
      "inf 0.001\n",
      "900.016662094 0.001\n",
      "75.0004613768 0.001\n",
      "4.40034080924e-05 0.001\n",
      "REPORT:\n",
      "                   RMSE: 2.02270;\n",
      "                   Time: 1 min 33 sec.\n"
     ]
    }
   ],
   "source": [
    "seed = 1\n",
    "rank = 5\n",
    "dims = (100, 100)\n",
    "nsamp = int(np.ceil(0.1 * np.prod(dims)))\n",
    "\n",
    "omega = sampling_operator(nsamp, dims, seed)\n",
    "M = get_matrix(rank, dims)\n",
    "data = get_sampling_vector(M, omega)\n",
    "\n",
    "max_iter = 1e4\n",
    "tol = 1e-3\n",
    "lam = 1e-4\n",
    "theta = 0.1\n",
    "delta_0 = 1.\n",
    "X_0 = reconstruct_matrix(data, omega, dims)\n",
    "U, S, V = np.linalg.svd(X_0)\n",
    "U = U[:, :rank]\n",
    "S = S[:rank]\n",
    "V = V[:rank, :]\n",
    "X_0 = U.dot(np.diag(S).dot(V))\n",
    "\n",
    "t0 = time.time()\n",
    "X_opt = RMC(omega, data, dims, X_0, delta_0, theta, tol, lam)\n",
    "rmse_error = RMSE(M, X_opt)\n",
    "t1 = time.time()\n",
    "\n",
    "print 'REPORT:'\n",
    "print '                   RMSE: %.5f;' % rmse_error\n",
    "print '                   Time: %d min %d sec.' % (int(t1 - t0) // 60, int(t1 - t0) % 60)"
   ]
  },
  {
   "cell_type": "code",
   "execution_count": null,
   "metadata": {
    "collapsed": true
   },
   "outputs": [],
   "source": []
  }
 ],
 "metadata": {
  "anaconda-cloud": {},
  "kernelspec": {
   "display_name": "Python [default]",
   "language": "python",
   "name": "python2"
  },
  "language_info": {
   "codemirror_mode": {
    "name": "ipython",
    "version": 2
   },
   "file_extension": ".py",
   "mimetype": "text/x-python",
   "name": "python",
   "nbconvert_exporter": "python",
   "pygments_lexer": "ipython2",
   "version": "2.7.12"
  }
 },
 "nbformat": 4,
 "nbformat_minor": 1
}
