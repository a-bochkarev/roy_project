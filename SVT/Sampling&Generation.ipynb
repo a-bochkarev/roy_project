{
 "cells": [
  {
   "cell_type": "code",
   "execution_count": 56,
   "metadata": {
    "collapsed": true
   },
   "outputs": [],
   "source": [
    "import numpy as np\n",
    "import pandas as pd\n",
    "from skimage import io\n",
    "import matplotlib.pyplot as plt\n",
    "%matplotlib inline"
   ]
  },
  {
   "cell_type": "markdown",
   "metadata": {},
   "source": [
    "### Sampling Operator"
   ]
  },
  {
   "cell_type": "markdown",
   "metadata": {},
   "source": [
    "- ```dims``` $-$ size of the matrix (matrix.shape);\n",
    "- ```nsamp``` $-$ number of samples;\n",
    "- ```seed``` $-$ set random seed."
   ]
  },
  {
   "cell_type": "markdown",
   "metadata": {},
   "source": [
    "The set of observed entries $\\Omega$ is sampled uniformly at random among all sets of cardinality $m$ (in programm it is ```nsamp```)."
   ]
  },
  {
   "cell_type": "code",
   "execution_count": 57,
   "metadata": {
    "collapsed": true
   },
   "outputs": [],
   "source": [
    "def sampling_operator(nsamp, dims, seed=1):\n",
    "    np.random.seed(seed)\n",
    "    idx = np.random.choice(np.prod(dims), nsamp, replace=False)\n",
    "    \n",
    "    return np.vstack(np.unravel_index(idx, dims)).T    "
   ]
  },
  {
   "cell_type": "code",
   "execution_count": 58,
   "metadata": {
    "collapsed": false
   },
   "outputs": [
    {
     "data": {
      "text/plain": [
       "array([[1, 1],\n",
       "       [1, 0],\n",
       "       [0, 0]], dtype=int64)"
      ]
     },
     "execution_count": 58,
     "metadata": {},
     "output_type": "execute_result"
    }
   ],
   "source": [
    "sampling_operator(3, (2, 2))"
   ]
  },
  {
   "cell_type": "markdown",
   "metadata": {},
   "source": [
    "### Low-rank Matrix Generator"
   ]
  },
  {
   "cell_type": "markdown",
   "metadata": {},
   "source": [
    "- ```dims``` $-$ size of the matrix (matrix.shape);\n",
    "- ```rank``` $-$ desired rank of the matrix;\n",
    "- ```seed``` $-$ set random seed."
   ]
  },
  {
   "cell_type": "code",
   "execution_count": 59,
   "metadata": {
    "collapsed": true
   },
   "outputs": [],
   "source": [
    "def get_matrix(rank, dims, seed=1):\n",
    "    np.random.seed(seed)\n",
    "    M_l = np.random.randn(dims[0], rank)\n",
    "    M_r = np.random.randn(dims[1], rank)\n",
    "    \n",
    "    return M_l.dot(M_r.T)"
   ]
  },
  {
   "cell_type": "code",
   "execution_count": 60,
   "metadata": {
    "collapsed": false
   },
   "outputs": [
    {
     "name": "stdout",
     "output_type": "stream",
     "text": [
      "2\n"
     ]
    }
   ],
   "source": [
    "M = get_matrix(2, (5, 3))\n",
    "print np.linalg.matrix_rank(M)"
   ]
  },
  {
   "cell_type": "code",
   "execution_count": 61,
   "metadata": {
    "collapsed": false
   },
   "outputs": [
    {
     "data": {
      "text/plain": [
       "array([[ 3.63527254, -0.28876918,  2.51449867],\n",
       "       [ 1.43822223,  0.58236993,  0.58132382],\n",
       "       [ 6.00681293,  0.60489365,  3.51261504],\n",
       "       [ 4.11929645, -0.27021251,  2.81545908],\n",
       "       [ 0.98020766, -0.00709191,  0.63599708]])"
      ]
     },
     "execution_count": 61,
     "metadata": {},
     "output_type": "execute_result"
    }
   ],
   "source": [
    "M"
   ]
  },
  {
   "cell_type": "code",
   "execution_count": null,
   "metadata": {
    "collapsed": true
   },
   "outputs": [],
   "source": []
  }
 ],
 "metadata": {
  "anaconda-cloud": {},
  "kernelspec": {
   "display_name": "Python [default]",
   "language": "python",
   "name": "python2"
  },
  "language_info": {
   "codemirror_mode": {
    "name": "ipython",
    "version": 2
   },
   "file_extension": ".py",
   "mimetype": "text/x-python",
   "name": "python",
   "nbconvert_exporter": "python",
   "pygments_lexer": "ipython2",
   "version": "2.7.12"
  }
 },
 "nbformat": 4,
 "nbformat_minor": 1
}
