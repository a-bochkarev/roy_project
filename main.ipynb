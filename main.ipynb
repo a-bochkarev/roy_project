{
 "cells": [
  {
   "cell_type": "code",
   "execution_count": 3,
   "metadata": {
    "collapsed": true
   },
   "outputs": [],
   "source": [
    "import numpy as np\n",
    "import scipy as sc\n",
    "import matplotlib.pyplot as plt\n",
    "import sys\n",
    "%matplotlib inline"
   ]
  },
  {
   "cell_type": "code",
   "execution_count": 4,
   "metadata": {
    "collapsed": false,
    "scrolled": true
   },
   "outputs": [],
   "source": [
    "sys.path.append('./lib/source/')\n",
    "\n",
    "from errors import *\n",
    "from data import *\n",
    "from methods import *"
   ]
  },
  {
   "cell_type": "code",
   "execution_count": 7,
   "metadata": {
    "collapsed": false,
    "scrolled": false
   },
   "outputs": [
    {
     "name": "stdout",
     "output_type": "stream",
     "text": [
      "Divergence! Try to decrease tau. Current tau is 7.5\n",
      "0.898546431071\n",
      "3836.67887731\n",
      "0.245785870732\n"
     ]
    }
   ],
   "source": [
    "all_methods = ['SVT', \n",
    "               'SoftImpute',\n",
    "               'SVP',\n",
    "               'RISMF']\n",
    "\n",
    "sample_fraction = 0.3\n",
    "rank = 10\n",
    "dims = (200, 100)\n",
    "max_iter = 300\n",
    "tol = 1e-4\n",
    "nsamp = int(sample_fraction * np.prod(dims))\n",
    "\n",
    "M = get_data('synthetic', rank, dims)\n",
    "omega = sampling_operator(nsamp, dims)\n",
    "data = get_sampling_vector(M, omega)\n",
    "\n",
    "X_svt = get_completion(omega, data, rank, dims, 'SVT', max_iter, tol)\n",
    "print RMSE(X_svt, M)\n",
    "X_svp = get_completion(omega, data, rank, dims, 'SVP', max_iter, tol)\n",
    "print RMSE(X_svp, M)\n",
    "X_si = get_completion(omega, data, rank, dims, 'SoftImpute', max_iter, tol)\n",
    "print RMSE(X_si, M)"
   ]
  },
  {
   "cell_type": "code",
   "execution_count": null,
   "metadata": {
    "collapsed": true
   },
   "outputs": [],
   "source": []
  }
 ],
 "metadata": {
  "anaconda-cloud": {},
  "kernelspec": {
   "display_name": "Python [default]",
   "language": "python",
   "name": "python2"
  },
  "language_info": {
   "codemirror_mode": {
    "name": "ipython",
    "version": 2
   },
   "file_extension": ".py",
   "mimetype": "text/x-python",
   "name": "python",
   "nbconvert_exporter": "python",
   "pygments_lexer": "ipython2",
   "version": "2.7.12"
  }
 },
 "nbformat": 4,
 "nbformat_minor": 1
}
