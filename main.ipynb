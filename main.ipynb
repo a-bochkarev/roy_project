{
 "cells": [
  {
   "cell_type": "code",
   "execution_count": 1,
   "metadata": {
    "collapsed": true
   },
   "outputs": [],
   "source": [
    "import numpy as np\n",
    "from time import time\n",
    "import scipy as sc\n",
    "import matplotlib.pyplot as plt\n",
    "import sys\n",
    "%matplotlib inline"
   ]
  },
  {
   "cell_type": "code",
   "execution_count": 2,
   "metadata": {
    "collapsed": false,
    "scrolled": true
   },
   "outputs": [],
   "source": [
    "sys.path.append('./lib/source/')\n",
    "\n",
    "from errors import *\n",
    "from data import *\n",
    "from methods import *"
   ]
  },
  {
   "cell_type": "code",
   "execution_count": 9,
   "metadata": {
    "collapsed": false,
    "scrolled": false
   },
   "outputs": [
    {
     "name": "stdout",
     "output_type": "stream",
     "text": [
      "RMSE error: 0.000607. Time: 1 min 45 sec.\n",
      "RMSE error: 0.000145. Time: 0 min 17 sec.\n",
      "RMSE error: 0.118543. Time: 0 min 22 sec.\n"
     ]
    }
   ],
   "source": [
    "all_methods = ['SVT', \n",
    "               'SoftImpute',\n",
    "               'SVP',\n",
    "               'RISMF']\n",
    "\n",
    "sample_fraction = 0.1\n",
    "rank = 15\n",
    "dims = (2000, 2000)\n",
    "max_iter = int(1e4)\n",
    "tol = 1e-4\n",
    "nsamp = int(sample_fraction * np.prod(dims))\n",
    "\n",
    "M = get_data('synthetic', rank, dims)\n",
    "omega = sampling_operator(nsamp, dims)\n",
    "data = get_sampling_vector(M, omega)\n",
    "\n",
    "t0 = time()\n",
    "X_svt = get_completion(omega, data, rank, dims, 'SVT', max_iter, tol)\n",
    "t1 = time()\n",
    "print 'RMSE error: %f. Time: %d min %d sec.' % (RMSE(X_svt, M), int(t1-t0) // 60, int(t1-t0) % 60)\n",
    "\n",
    "t0 = time()\n",
    "X_svp = get_completion(omega, data, rank, dims, 'SVP', max_iter, tol)\n",
    "t1 = time()\n",
    "print 'RMSE error: %f. Time: %d min %d sec.' % (RMSE(X_svp, M), int(t1-t0) // 60, int(t1-t0) % 60)\n",
    "\n",
    "t0 = time()\n",
    "X_si = get_completion(omega, data, rank, dims, 'SoftImpute', int(max_iter), tol)\n",
    "t1 = time()\n",
    "print 'RMSE error: %f. Time: %d min %d sec.' % (RMSE(X_si, M), int(t1-t0) // 60, int(t1-t0) % 60)"
   ]
  },
  {
   "cell_type": "code",
   "execution_count": null,
   "metadata": {
    "collapsed": true
   },
   "outputs": [],
   "source": []
  },
  {
   "cell_type": "code",
   "execution_count": null,
   "metadata": {
    "collapsed": true
   },
   "outputs": [],
   "source": []
  },
  {
   "cell_type": "code",
   "execution_count": null,
   "metadata": {
    "collapsed": true
   },
   "outputs": [],
   "source": []
  }
 ],
 "metadata": {
  "anaconda-cloud": {},
  "kernelspec": {
   "display_name": "Python [default]",
   "language": "python",
   "name": "python2"
  },
  "language_info": {
   "codemirror_mode": {
    "name": "ipython",
    "version": 2
   },
   "file_extension": ".py",
   "mimetype": "text/x-python",
   "name": "python",
   "nbconvert_exporter": "python",
   "pygments_lexer": "ipython2",
   "version": "2.7.12"
  }
 },
 "nbformat": 4,
 "nbformat_minor": 1
}
