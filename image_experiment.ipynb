{
 "cells": [
  {
   "cell_type": "code",
   "execution_count": 22,
   "metadata": {
    "collapsed": true
   },
   "outputs": [],
   "source": [
    "import numpy as np\n",
    "from skimage import io, color\n",
    "from time import time\n",
    "import scipy as sc\n",
    "import matplotlib.pyplot as plt\n",
    "import sys\n",
    "%matplotlib inline"
   ]
  },
  {
   "cell_type": "code",
   "execution_count": 23,
   "metadata": {
    "collapsed": false,
    "scrolled": true
   },
   "outputs": [],
   "source": [
    "sys.path.append('./lib/source/')\n",
    "\n",
    "from errors import *\n",
    "from data import *\n",
    "from methods import *"
   ]
  },
  {
   "cell_type": "code",
   "execution_count": 24,
   "metadata": {
    "collapsed": true
   },
   "outputs": [],
   "source": [
    "def get_reduced_image(image, rank=10):\n",
    "    U, S, V = np.linalg.svd(image)\n",
    "    U = U[:, :rank]\n",
    "    S = S[:rank]\n",
    "    V = V[:rank, :]\n",
    "    reduced_image = U.dot(np.diag(S).dot(V))\n",
    "    reduced_image /= np.max(reduced_image)\n",
    "    \n",
    "    return reduced_image"
   ]
  },
  {
   "cell_type": "code",
   "execution_count": 25,
   "metadata": {
    "collapsed": true
   },
   "outputs": [],
   "source": [
    "def get_gray_image(image):\n",
    "    gray_image = color.rgb2gray(image)\n",
    "    gray_image /= np.max(gray_image)\n",
    "    \n",
    "    return gray_image"
   ]
  },
  {
   "cell_type": "code",
   "execution_count": 26,
   "metadata": {
    "collapsed": true
   },
   "outputs": [],
   "source": [
    "def save_image(image, name, folder_name):\n",
    "    io.imsave('./data/images/' + folder_name + '/' + name + '.jpg', image)"
   ]
  },
  {
   "cell_type": "code",
   "execution_count": 34,
   "metadata": {
    "collapsed": true
   },
   "outputs": [],
   "source": [
    "def load_image(name, folder_name='original', max_size=1000):\n",
    "    image = io.imread('./data/images/' + folder_name + '/' + name + '.jpg')\n",
    "    image = image.astype('float')\n",
    "    image /= 255.\n",
    "    if image.ndim == 3:\n",
    "        image = image[:max_size, :max_size, :]\n",
    "    else:\n",
    "        image = image[:max_size, :max_size]\n",
    "            \n",
    "    return image"
   ]
  },
  {
   "cell_type": "code",
   "execution_count": 42,
   "metadata": {
    "collapsed": false
   },
   "outputs": [
    {
     "name": "stdout",
     "output_type": "stream",
     "text": [
      "Image: 7_pattern1. Size: 300x500. Rank: 7. Sample fraction: 0.10.\n",
      "SVT. Rank: 7. RMSE: 0.01162. Time: 1 min 24 sec.\n",
      "SVP. Rank: 7. RMSE: 0.00262. Time: 0 min 3 sec.\n",
      " SI. Rank: 300. RMSE: 0.04935. Time: 0 min 4 sec.\n",
      "\n",
      "Image: 7_pattern2. Size: 1000x820. Rank: 7. Sample fraction: 0.10.\n",
      "SVT. Rank: 7. RMSE: 0.00311. Time: 2 min 42 sec.\n",
      "SVP. Rank: 7. RMSE: 0.00222. Time: 0 min 11 sec.\n",
      " SI. Rank: 820. RMSE: 0.03745. Time: 0 min 23 sec.\n",
      "\n",
      "Image: 7_pattern3. Size: 1000x1000. Rank: 7. Sample fraction: 0.10.\n",
      "SVT. Rank: 7. RMSE: 0.00106. Time: 1 min 50 sec.\n",
      "SVP. Rank: 7. RMSE: 0.00124. Time: 0 min 8 sec.\n",
      " SI. Rank: 1000. RMSE: 0.03898. Time: 0 min 26 sec.\n",
      "\n",
      "Image: 7_pattern4. Size: 1000x1000. Rank: 7. Sample fraction: 0.10.\n",
      "SVT. Rank: 7. RMSE: 0.00076. Time: 2 min 15 sec.\n",
      "SVP. Rank: 7. RMSE: 0.00084. Time: 0 min 8 sec.\n",
      " SI. Rank: 1000. RMSE: 0.02533. Time: 0 min 26 sec.\n",
      "\n",
      "Image: 7_pattern5. Size: 600x600. Rank: 7. Sample fraction: 0.10.\n",
      "SVT. Rank: 7. RMSE: 0.00134. Time: 0 min 56 sec.\n",
      "SVP. Rank: 7. RMSE: 0.00148. Time: 0 min 4 sec.\n",
      " SI. Rank: 600. RMSE: 0.04184. Time: 0 min 10 sec.\n",
      "\n"
     ]
    }
   ],
   "source": [
    "for i in xrange(5):\n",
    "    rank = 7\n",
    "    image = load_image('pattern'+str(i+1))\n",
    "    save_image(image, 'small_pattern'+str(i+1), 'original')\n",
    "    gray_image = get_gray_image(image)\n",
    "    reduced_image = get_reduced_image(gray_image, rank)\n",
    "    save_image(reduced_image, str(rank)+'_pattern'+str(i+1), 'low_rank')\n",
    "    M = reduced_image.copy()\n",
    "    sample_fraction = 0.1\n",
    "    dims = M.shape\n",
    "    max_iter = int(1e3)\n",
    "    tol = 1e-3\n",
    "    nsamp = int(sample_fraction * np.prod(dims))\n",
    "\n",
    "    omega = sampling_operator(nsamp, dims)\n",
    "    vec_data = get_sampling_vector(M, omega)\n",
    "    mat_data = get_sampling_matrix(M, omega)\n",
    "    save_image(mat_data, str(i+1)+'_'+str(sample_fraction)+'_'+str(rank)+'_pattern', 'results')\n",
    "    \n",
    "    print 'Image: '+str(rank)+'_pattern'+str(i+1)+'. Size: %dx%d. Rank: %d. Sample fraction: %.2f.' % (M.shape[0], \n",
    "                                                                                                       M.shape[1], \n",
    "                                                                                                       np.linalg.matrix_rank(M),\n",
    "                                                                                                       sample_fraction)\n",
    "\n",
    "    t0 = time()\n",
    "    X_svt = get_completion(omega, vec_data, rank, dims, 'SVT', max_iter, tol)\n",
    "    t1 = time()\n",
    "    rmse_svt = RMSE(X_svt, M)\n",
    "    rank_svt = np.linalg.matrix_rank(X_svt)\n",
    "    X_svt /= np.max(X_svt)\n",
    "    save_image(X_svt, str(i+1)+'_'+str(sample_fraction)+'_'+str(rank)+'_pattern_SVT_RMSE_%.5f' % rmse_svt, 'results')\n",
    "    print 'SVT. Rank: %d. RMSE: %.5f. Time: %d min %d sec.' % (rank_svt, rmse_svt, int(t1-t0) // 60, int(t1-t0) % 60)\n",
    "\n",
    "    t0 = time()\n",
    "    X_svp = get_completion(omega, vec_data, rank, dims, 'SVP', max_iter, tol)\n",
    "    t1 = time()\n",
    "    rmse_svp = RMSE(X_svp, M)\n",
    "    rank_svp = np.linalg.matrix_rank(X_svp)\n",
    "    X_svp /= np.max(X_svp)\n",
    "    save_image(X_svp, str(i+1)+'_'+str(sample_fraction)+'_'+str(rank)+'_pattern_SVP_RMSE_%.5f' % rmse_svp, 'results')\n",
    "    print 'SVP. Rank: %d. RMSE: %.5f. Time: %d min %d sec.' % (rank_svp, rmse_svp, int(t1-t0) // 60, int(t1-t0) % 60)\n",
    "\n",
    "    t0 = time()\n",
    "    X_si = get_completion(omega, vec_data, rank, dims, 'SoftImpute', int(max_iter), tol)\n",
    "    t1 = time()\n",
    "    rmse_si = RMSE(X_si, M)\n",
    "    rank_si = np.linalg.matrix_rank(X_si)\n",
    "    X_si /= np.max(X_si)\n",
    "    save_image(X_si, str(i+1)+'_'+str(sample_fraction)+'_'+str(rank)+'_pattern_SI_RMSE_%.5f' % rmse_si, 'results')\n",
    "    print ' SI. Rank: %d. RMSE: %.5f. Time: %d min %d sec.' % (rank_si, rmse_si, int(t1-t0) // 60, int(t1-t0) % 60)\n",
    "    print ''"
   ]
  },
  {
   "cell_type": "code",
   "execution_count": 46,
   "metadata": {
    "collapsed": false
   },
   "outputs": [
    {
     "name": "stdout",
     "output_type": "stream",
     "text": [
      "Image: 11_pattern1. Size: 300x500. Rank: 11. Sample fraction: 0.10.\n",
      "SVT. Rank: 45. RMSE: 0.10606. Time: 4 min 28 sec.\n",
      "SVP. Rank: 11. RMSE: 0.00496. Time: 0 min 15 sec.\n",
      " SI. Rank: 300. RMSE: 0.07781. Time: 0 min 5 sec.\n",
      "\n",
      "Image: 11_pattern2. Size: 1000x820. Rank: 11. Sample fraction: 0.10.\n",
      "SVT. Rank: 11. RMSE: 0.00944. Time: 2 min 50 sec.\n",
      "SVP. Rank: 11. RMSE: 0.00387. Time: 0 min 19 sec.\n",
      " SI. Rank: 820. RMSE: 0.05083. Time: 0 min 23 sec.\n",
      "\n",
      "Image: 11_pattern3. Size: 1000x1000. Rank: 11. Sample fraction: 0.10.\n",
      "SVT. Rank: 11. RMSE: 0.00140. Time: 3 min 26 sec.\n",
      "SVP. Rank: 11. RMSE: 0.00175. Time: 0 min 11 sec.\n",
      " SI. Rank: 1000. RMSE: 0.05790. Time: 0 min 27 sec.\n",
      "\n",
      "Image: 11_pattern4. Size: 1000x1000. Rank: 11. Sample fraction: 0.10.\n",
      "SVT. Rank: 11. RMSE: 0.00204. Time: 3 min 48 sec.\n",
      "SVP. Rank: 11. RMSE: 0.00116. Time: 0 min 14 sec.\n",
      " SI. Rank: 1000. RMSE: 0.03344. Time: 0 min 27 sec.\n",
      "\n",
      "Image: 11_pattern5. Size: 600x600. Rank: 11. Sample fraction: 0.10.\n",
      "SVT. Rank: 28. RMSE: 0.01244. Time: 4 min 40 sec.\n",
      "SVP. Rank: 11. RMSE: 0.00302. Time: 0 min 9 sec.\n",
      " SI. Rank: 600. RMSE: 0.05799. Time: 0 min 10 sec.\n",
      "\n"
     ]
    }
   ],
   "source": [
    "for i in xrange(5):\n",
    "    rank = 11\n",
    "    image = load_image('pattern'+str(i+1))\n",
    "    save_image(image, 'small_pattern'+str(i+1), 'original')\n",
    "    gray_image = get_gray_image(image)\n",
    "    reduced_image = get_reduced_image(gray_image, rank)\n",
    "    save_image(reduced_image, str(rank)+'_pattern'+str(i+1), 'low_rank')\n",
    "    M = reduced_image.copy()\n",
    "    sample_fraction = 0.1\n",
    "    dims = M.shape\n",
    "    max_iter = int(1e3)\n",
    "    tol = 1e-3\n",
    "    nsamp = int(sample_fraction * np.prod(dims))\n",
    "\n",
    "    omega = sampling_operator(nsamp, dims)\n",
    "    vec_data = get_sampling_vector(M, omega)\n",
    "    mat_data = get_sampling_matrix(M, omega)\n",
    "    save_image(mat_data, str(i+1)+'_'+str(sample_fraction)+'_'+str(rank)+'_pattern', 'results')\n",
    "    \n",
    "    print 'Image: '+str(rank)+'_pattern'+str(i+1)+'. Size: %dx%d. Rank: %d. Sample fraction: %.2f.' % (M.shape[0], \n",
    "                                                                                                       M.shape[1], \n",
    "                                                                                                       np.linalg.matrix_rank(M),\n",
    "                                                                                                       sample_fraction)\n",
    "\n",
    "    t0 = time()\n",
    "    X_svt = get_completion(omega, vec_data, rank, dims, 'SVT', max_iter, tol)\n",
    "    t1 = time()\n",
    "    rmse_svt = RMSE(X_svt, M)\n",
    "    rank_svt = np.linalg.matrix_rank(X_svt)\n",
    "    X_svt /= np.max(X_svt)\n",
    "    save_image(X_svt, str(i+1)+'_'+str(sample_fraction)+'_'+str(rank)+'_pattern_SVT_RMSE_%.5f' % rmse_svt, 'results')\n",
    "    print 'SVT. Rank: %d. RMSE: %.5f. Time: %d min %d sec.' % (rank_svt, rmse_svt, int(t1-t0) // 60, int(t1-t0) % 60)\n",
    "\n",
    "    t0 = time()\n",
    "    X_svp = get_completion(omega, vec_data, rank, dims, 'SVP', max_iter, tol)\n",
    "    t1 = time()\n",
    "    rmse_svp = RMSE(X_svp, M)\n",
    "    rank_svp = np.linalg.matrix_rank(X_svp)\n",
    "    X_svp /= np.max(X_svp)\n",
    "    save_image(X_svp, str(i+1)+'_'+str(sample_fraction)+'_'+str(rank)+'_pattern_SVP_RMSE_%.5f' % rmse_svp, 'results')\n",
    "    print 'SVP. Rank: %d. RMSE: %.5f. Time: %d min %d sec.' % (rank_svp, rmse_svp, int(t1-t0) // 60, int(t1-t0) % 60)\n",
    "\n",
    "    t0 = time()\n",
    "    X_si = get_completion(omega, vec_data, rank, dims, 'SoftImpute', int(max_iter), tol)\n",
    "    t1 = time()\n",
    "    rmse_si = RMSE(X_si, M)\n",
    "    rank_si = np.linalg.matrix_rank(X_si)\n",
    "    X_si /= np.max(X_si)\n",
    "    save_image(X_si, str(i+1)+'_'+str(sample_fraction)+'_'+str(rank)+'_pattern_SI_RMSE_%.5f' % rmse_si, 'results')\n",
    "    print ' SI. Rank: %d. RMSE: %.5f. Time: %d min %d sec.' % (rank_si, rmse_si, int(t1-t0) // 60, int(t1-t0) % 60)\n",
    "    print ''"
   ]
  },
  {
   "cell_type": "code",
   "execution_count": 52,
   "metadata": {
    "collapsed": false
   },
   "outputs": [
    {
     "name": "stdout",
     "output_type": "stream",
     "text": [
      "Image: 7_pattern1. Size: 300x500. Rank: 7. Sample fraction: 0.05.\n",
      "SVT. Rank: 3. RMSE: 0.17312. Time: 0 min 26 sec.\n",
      "SVP. Rank: 7. RMSE: 0.28965. Time: 0 min 3 sec.\n",
      " SI. Rank: 300. RMSE: 0.21863. Time: 0 min 1 sec.\n",
      "\n",
      "Image: 7_pattern2. Size: 1000x820. Rank: 7. Sample fraction: 0.05.\n",
      "SVT. Rank: 7. RMSE: 0.02730. Time: 0 min 39 sec.\n",
      "SVP. Rank: 7. RMSE: 0.01071. Time: 0 min 23 sec.\n",
      " SI. Rank: 820. RMSE: 0.05085. Time: 0 min 6 sec.\n",
      "\n",
      "Image: 7_pattern3. Size: 1000x1000. Rank: 7. Sample fraction: 0.05.\n",
      "SVT. Rank: 7. RMSE: 0.01570. Time: 0 min 53 sec.\n",
      "SVP. Rank: 7. RMSE: 0.00295. Time: 0 min 29 sec.\n",
      " SI. Rank: 1000. RMSE: 0.05217. Time: 0 min 8 sec.\n",
      "\n",
      "Image: 7_pattern4. Size: 1000x1000. Rank: 7. Sample fraction: 0.05.\n",
      "SVT. Rank: 7. RMSE: 0.01298. Time: 0 min 55 sec.\n",
      "SVP. Rank: 7. RMSE: 0.00132. Time: 0 min 21 sec.\n",
      " SI. Rank: 1000. RMSE: 0.03525. Time: 0 min 7 sec.\n",
      "\n",
      "Image: 7_pattern5. Size: 600x600. Rank: 7. Sample fraction: 0.05.\n",
      "SVT. Rank: 29. RMSE: 0.08619. Time: 1 min 4 sec.\n",
      "SVP. Rank: 7. RMSE: 0.05667. Time: 0 min 9 sec.\n",
      " SI. Rank: 600. RMSE: 0.09912. Time: 0 min 2 sec.\n",
      "\n"
     ]
    }
   ],
   "source": [
    "for i in xrange(5):\n",
    "    rank = 7\n",
    "    image = load_image('pattern'+str(i+1))\n",
    "    save_image(image, 'small_pattern'+str(i+1), 'original')\n",
    "    gray_image = get_gray_image(image)\n",
    "    reduced_image = get_reduced_image(gray_image, rank)\n",
    "    save_image(reduced_image, str(rank)+'_pattern'+str(i+1), 'low_rank')\n",
    "    M = reduced_image.copy()\n",
    "    sample_fraction = 0.05\n",
    "    dims = M.shape\n",
    "    max_iter = int(300)\n",
    "    tol = 1e-3\n",
    "    nsamp = int(sample_fraction * np.prod(dims))\n",
    "\n",
    "    omega = sampling_operator(nsamp, dims)\n",
    "    vec_data = get_sampling_vector(M, omega)\n",
    "    mat_data = get_sampling_matrix(M, omega)\n",
    "    save_image(mat_data, str(i+1)+'_'+str(sample_fraction)+'_'+str(rank)+'_pattern', 'results')\n",
    "    \n",
    "    print 'Image: '+str(rank)+'_pattern'+str(i+1)+'. Size: %dx%d. Rank: %d. Sample fraction: %.2f.' % (M.shape[0], \n",
    "                                                                                                       M.shape[1], \n",
    "                                                                                                       np.linalg.matrix_rank(M),\n",
    "                                                                                                       sample_fraction)\n",
    "\n",
    "    t0 = time()\n",
    "    X_svt = get_completion(omega, vec_data, rank, dims, 'SVT', max_iter, tol)\n",
    "    t1 = time()\n",
    "    rmse_svt = RMSE(X_svt, M)\n",
    "    rank_svt = np.linalg.matrix_rank(X_svt)\n",
    "    X_svt /= np.max(X_svt)\n",
    "    save_image(X_svt, str(i+1)+'_'+str(sample_fraction)+'_'+str(rank)+'_pattern_SVT_RMSE_%.5f' % rmse_svt, 'results')\n",
    "    print 'SVT. Rank: %d. RMSE: %.5f. Time: %d min %d sec.' % (rank_svt, rmse_svt, int(t1-t0) // 60, int(t1-t0) % 60)\n",
    "\n",
    "    t0 = time()\n",
    "    X_svp = get_completion(omega, vec_data, rank, dims, 'SVP', max_iter, tol)\n",
    "    t1 = time()\n",
    "    rmse_svp = RMSE(X_svp, M)\n",
    "    rank_svp = np.linalg.matrix_rank(X_svp)\n",
    "    X_svp /= np.max(X_svp)\n",
    "    save_image(X_svp, str(i+1)+'_'+str(sample_fraction)+'_'+str(rank)+'_pattern_SVP_RMSE_%.5f' % rmse_svp, 'results')\n",
    "    print 'SVP. Rank: %d. RMSE: %.5f. Time: %d min %d sec.' % (rank_svp, rmse_svp, int(t1-t0) // 60, int(t1-t0) % 60)\n",
    "\n",
    "    t0 = time()\n",
    "    X_si = get_completion(omega, vec_data, rank, dims, 'SoftImpute', int(max_iter), tol)\n",
    "    t1 = time()\n",
    "    rmse_si = RMSE(X_si, M)\n",
    "    rank_si = np.linalg.matrix_rank(X_si)\n",
    "    X_si /= np.max(X_si)\n",
    "    save_image(X_si, str(i+1)+'_'+str(sample_fraction)+'_'+str(rank)+'_pattern_SI_RMSE_%.5f' % rmse_si, 'results')\n",
    "    print ' SI. Rank: %d. RMSE: %.5f. Time: %d min %d sec.' % (rank_si, rmse_si, int(t1-t0) // 60, int(t1-t0) % 60)\n",
    "    print ''"
   ]
  },
  {
   "cell_type": "code",
   "execution_count": 53,
   "metadata": {
    "collapsed": false
   },
   "outputs": [
    {
     "name": "stdout",
     "output_type": "stream",
     "text": [
      "Image: 11_pattern1. Size: 300x500. Rank: 11. Sample fraction: 0.05.\n",
      "SVT. Rank: 3. RMSE: 0.26538. Time: 0 min 30 sec.\n",
      "SVP. Rank: 11. RMSE: 0.46427. Time: 0 min 4 sec.\n",
      " SI. Rank: 300. RMSE: 0.34716. Time: 0 min 1 sec.\n",
      "\n",
      "Image: 11_pattern2. Size: 1000x820. Rank: 11. Sample fraction: 0.05.\n",
      "SVT. Rank: 25. RMSE: 0.07301. Time: 1 min 45 sec.\n",
      "SVP. Rank: 11. RMSE: 0.13431. Time: 0 min 25 sec.\n",
      " SI. Rank: 820. RMSE: 0.07653. Time: 0 min 6 sec.\n",
      "\n",
      "Image: 11_pattern3. Size: 1000x1000. Rank: 11. Sample fraction: 0.05.\n",
      "SVT. Rank: 11. RMSE: 0.07940. Time: 8 min 9 sec.\n",
      "SVP. Rank: 11. RMSE: 0.03149. Time: 0 min 29 sec.\n",
      " SI. Rank: 1000. RMSE: 0.09262. Time: 0 min 7 sec.\n",
      "\n",
      "Image: 11_pattern4. Size: 1000x1000. Rank: 11. Sample fraction: 0.05.\n",
      "SVT. Rank: 11. RMSE: 0.04690. Time: 1 min 53 sec.\n",
      "SVP. Rank: 11. RMSE: 0.07546. Time: 0 min 30 sec.\n",
      " SI. Rank: 1000. RMSE: 0.06153. Time: 0 min 8 sec.\n",
      "\n",
      "Image: 11_pattern5. Size: 600x600. Rank: 11. Sample fraction: 0.05.\n",
      "SVT. Rank: 46. RMSE: 0.15726. Time: 1 min 39 sec.\n",
      "SVP. Rank: 11. RMSE: 0.29424. Time: 0 min 10 sec.\n",
      " SI. Rank: 600. RMSE: 0.20221. Time: 0 min 3 sec.\n",
      "\n"
     ]
    }
   ],
   "source": [
    "for i in xrange(5):\n",
    "    rank = 11\n",
    "    image = load_image('pattern'+str(i+1))\n",
    "    save_image(image, 'small_pattern'+str(i+1), 'original')\n",
    "    gray_image = get_gray_image(image)\n",
    "    reduced_image = get_reduced_image(gray_image, rank)\n",
    "    save_image(reduced_image, str(rank)+'_pattern'+str(i+1), 'low_rank')\n",
    "    M = reduced_image.copy()\n",
    "    sample_fraction = 0.05\n",
    "    dims = M.shape\n",
    "    max_iter = int(300)\n",
    "    tol = 1e-3\n",
    "    nsamp = int(sample_fraction * np.prod(dims))\n",
    "\n",
    "    omega = sampling_operator(nsamp, dims)\n",
    "    vec_data = get_sampling_vector(M, omega)\n",
    "    mat_data = get_sampling_matrix(M, omega)\n",
    "    save_image(mat_data, str(i+1)+'_'+str(sample_fraction)+'_'+str(rank)+'_pattern', 'results')\n",
    "    \n",
    "    print 'Image: '+str(rank)+'_pattern'+str(i+1)+'. Size: %dx%d. Rank: %d. Sample fraction: %.2f.' % (M.shape[0], \n",
    "                                                                                                       M.shape[1], \n",
    "                                                                                                       np.linalg.matrix_rank(M),\n",
    "                                                                                                       sample_fraction)\n",
    "\n",
    "    t0 = time()\n",
    "    X_svt = get_completion(omega, vec_data, rank, dims, 'SVT', max_iter, tol)\n",
    "    t1 = time()\n",
    "    rmse_svt = RMSE(X_svt, M)\n",
    "    rank_svt = np.linalg.matrix_rank(X_svt)\n",
    "    X_svt /= np.max(X_svt)\n",
    "    save_image(X_svt, str(i+1)+'_'+str(sample_fraction)+'_'+str(rank)+'_pattern_SVT_RMSE_%.5f' % rmse_svt, 'results')\n",
    "    print 'SVT. Rank: %d. RMSE: %.5f. Time: %d min %d sec.' % (rank_svt, rmse_svt, int(t1-t0) // 60, int(t1-t0) % 60)\n",
    "\n",
    "    t0 = time()\n",
    "    X_svp = get_completion(omega, vec_data, rank, dims, 'SVP', max_iter, tol)\n",
    "    t1 = time()\n",
    "    rmse_svp = RMSE(X_svp, M)\n",
    "    rank_svp = np.linalg.matrix_rank(X_svp)\n",
    "    X_svp /= np.max(X_svp)\n",
    "    save_image(X_svp, str(i+1)+'_'+str(sample_fraction)+'_'+str(rank)+'_pattern_SVP_RMSE_%.5f' % rmse_svp, 'results')\n",
    "    print 'SVP. Rank: %d. RMSE: %.5f. Time: %d min %d sec.' % (rank_svp, rmse_svp, int(t1-t0) // 60, int(t1-t0) % 60)\n",
    "\n",
    "    t0 = time()\n",
    "    X_si = get_completion(omega, vec_data, rank, dims, 'SoftImpute', int(max_iter), tol)\n",
    "    t1 = time()\n",
    "    rmse_si = RMSE(X_si, M)\n",
    "    rank_si = np.linalg.matrix_rank(X_si)\n",
    "    X_si /= np.max(X_si)\n",
    "    save_image(X_si, str(i+1)+'_'+str(sample_fraction)+'_'+str(rank)+'_pattern_SI_RMSE_%.5f' % rmse_si, 'results')\n",
    "    print ' SI. Rank: %d. RMSE: %.5f. Time: %d min %d sec.' % (rank_si, rmse_si, int(t1-t0) // 60, int(t1-t0) % 60)\n",
    "    print ''"
   ]
  },
  {
   "cell_type": "code",
   "execution_count": null,
   "metadata": {
    "collapsed": true
   },
   "outputs": [],
   "source": []
  }
 ],
 "metadata": {
  "anaconda-cloud": {},
  "kernelspec": {
   "display_name": "Python [default]",
   "language": "python",
   "name": "python2"
  },
  "language_info": {
   "codemirror_mode": {
    "name": "ipython",
    "version": 2
   },
   "file_extension": ".py",
   "mimetype": "text/x-python",
   "name": "python",
   "nbconvert_exporter": "python",
   "pygments_lexer": "ipython2",
   "version": "2.7.12"
  }
 },
 "nbformat": 4,
 "nbformat_minor": 1
}
