{
 "cells": [
  {
   "cell_type": "code",
   "execution_count": 22,
   "metadata": {
    "collapsed": true
   },
   "outputs": [],
   "source": [
    "import numpy as np\n",
    "from skimage import io, color\n",
    "from time import time\n",
    "import scipy as sc\n",
    "import matplotlib.pyplot as plt\n",
    "import sys\n",
    "%matplotlib inline"
   ]
  },
  {
   "cell_type": "code",
   "execution_count": 23,
   "metadata": {
    "collapsed": false,
    "scrolled": true
   },
   "outputs": [],
   "source": [
    "sys.path.append('./lib/source/')\n",
    "\n",
    "from errors import *\n",
    "from data import *\n",
    "from methods import *"
   ]
  },
  {
   "cell_type": "code",
   "execution_count": 24,
   "metadata": {
    "collapsed": true
   },
   "outputs": [],
   "source": [
    "def get_reduced_image(image, rank=10):\n",
    "    U, S, V = np.linalg.svd(image)\n",
    "    U = U[:, :rank]\n",
    "    S = S[:rank]\n",
    "    V = V[:rank, :]\n",
    "    reduced_image = U.dot(np.diag(S).dot(V))\n",
    "    reduced_image /= np.max(reduced_image)\n",
    "    \n",
    "    return reduced_image"
   ]
  },
  {
   "cell_type": "code",
   "execution_count": 25,
   "metadata": {
    "collapsed": true
   },
   "outputs": [],
   "source": [
    "def get_gray_image(image):\n",
    "    gray_image = color.rgb2gray(image)\n",
    "    gray_image /= np.max(gray_image)\n",
    "    \n",
    "    return gray_image"
   ]
  },
  {
   "cell_type": "code",
   "execution_count": 26,
   "metadata": {
    "collapsed": true
   },
   "outputs": [],
   "source": [
    "def save_image(image, name, folder_name):\n",
    "    io.imsave('./data/images/' + folder_name + '/' + name + '.jpg', image)"
   ]
  },
  {
   "cell_type": "code",
   "execution_count": 34,
   "metadata": {
    "collapsed": true
   },
   "outputs": [],
   "source": [
    "def load_image(name, folder_name='original', max_size=1000):\n",
    "    image = io.imread('./data/images/' + folder_name + '/' + name + '.jpg')\n",
    "    image = image.astype('float')\n",
    "    image /= 255.\n",
    "    if image.ndim == 3:\n",
    "        image = image[:max_size, :max_size, :]\n",
    "    else:\n",
    "        image = image[:max_size, :max_size]\n",
    "            \n",
    "    return image"
   ]
  },
  {
   "cell_type": "code",
   "execution_count": 42,
   "metadata": {
    "collapsed": false
   },
   "outputs": [
    {
     "name": "stdout",
     "output_type": "stream",
     "text": [
      "Image: 7_pattern1. Size: 300x500. Rank: 7. Sample fraction: 0.10.\n",
      "SVT. Rank: 7. RMSE: 0.01162. Time: 1 min 24 sec.\n",
      "SVP. Rank: 7. RMSE: 0.00262. Time: 0 min 3 sec.\n",
      " SI. Rank: 300. RMSE: 0.04935. Time: 0 min 4 sec.\n",
      "\n",
      "Image: 7_pattern2. Size: 1000x820. Rank: 7. Sample fraction: 0.10.\n",
      "SVT. Rank: 7. RMSE: 0.00311. Time: 2 min 42 sec.\n",
      "SVP. Rank: 7. RMSE: 0.00222. Time: 0 min 11 sec.\n",
      " SI. Rank: 820. RMSE: 0.03745. Time: 0 min 23 sec.\n",
      "\n",
      "Image: 7_pattern3. Size: 1000x1000. Rank: 7. Sample fraction: 0.10.\n",
      "SVT. Rank: 7. RMSE: 0.00106. Time: 1 min 50 sec.\n",
      "SVP. Rank: 7. RMSE: 0.00124. Time: 0 min 8 sec.\n",
      " SI. Rank: 1000. RMSE: 0.03898. Time: 0 min 26 sec.\n",
      "\n",
      "Image: 7_pattern4. Size: 1000x1000. Rank: 7. Sample fraction: 0.10.\n",
      "SVT. Rank: 7. RMSE: 0.00076. Time: 2 min 15 sec.\n",
      "SVP. Rank: 7. RMSE: 0.00084. Time: 0 min 8 sec.\n",
      " SI. Rank: 1000. RMSE: 0.02533. Time: 0 min 26 sec.\n",
      "\n",
      "Image: 7_pattern5. Size: 600x600. Rank: 7. Sample fraction: 0.10.\n",
      "SVT. Rank: 7. RMSE: 0.00134. Time: 0 min 56 sec.\n",
      "SVP. Rank: 7. RMSE: 0.00148. Time: 0 min 4 sec.\n",
      " SI. Rank: 600. RMSE: 0.04184. Time: 0 min 10 sec.\n",
      "\n"
     ]
    }
   ],
   "source": [
    "for i in xrange(5):\n",
    "    rank = 7\n",
    "    image = load_image('pattern'+str(i+1))\n",
    "    save_image(image, 'small_pattern'+str(i+1), 'original')\n",
    "    gray_image = get_gray_image(image)\n",
    "    reduced_image = get_reduced_image(gray_image, rank)\n",
    "    save_image(reduced_image, str(rank)+'_pattern'+str(i+1), 'low_rank')\n",
    "    M = reduced_image.copy()\n",
    "    sample_fraction = 0.1\n",
    "    dims = M.shape\n",
    "    max_iter = int(1e3)\n",
    "    tol = 1e-3\n",
    "    nsamp = int(sample_fraction * np.prod(dims))\n",
    "\n",
    "    omega = sampling_operator(nsamp, dims)\n",
    "    vec_data = get_sampling_vector(M, omega)\n",
    "    mat_data = get_sampling_matrix(M, omega)\n",
    "    save_image(mat_data, str(i+1)+'_'+str(sample_fraction)+'_'+str(rank)+'_pattern', 'results')\n",
    "    \n",
    "    print 'Image: '+str(rank)+'_pattern'+str(i+1)+'. Size: %dx%d. Rank: %d. Sample fraction: %.2f.' % (M.shape[0], \n",
    "                                                                                                       M.shape[1], \n",
    "                                                                                                       np.linalg.matrix_rank(M),\n",
    "                                                                                                       sample_fraction)\n",
    "\n",
    "    t0 = time()\n",
    "    X_svt = get_completion(omega, vec_data, rank, dims, 'SVT', max_iter, tol)\n",
    "    t1 = time()\n",
    "    rmse_svt = RMSE(X_svt, M)\n",
    "    rank_svt = np.linalg.matrix_rank(X_svt)\n",
    "    X_svt /= np.max(X_svt)\n",
    "    save_image(X_svt, str(i+1)+'_'+str(sample_fraction)+'_'+str(rank)+'_pattern_SVT_RMSE_%.5f' % rmse_svt, 'results')\n",
    "    print 'SVT. Rank: %d. RMSE: %.5f. Time: %d min %d sec.' % (rank_svt, rmse_svt, int(t1-t0) // 60, int(t1-t0) % 60)\n",
    "\n",
    "    t0 = time()\n",
    "    X_svp = get_completion(omega, vec_data, rank, dims, 'SVP', max_iter, tol)\n",
    "    t1 = time()\n",
    "    rmse_svp = RMSE(X_svp, M)\n",
    "    rank_svp = np.linalg.matrix_rank(X_svp)\n",
    "    X_svp /= np.max(X_svp)\n",
    "    save_image(X_svp, str(i+1)+'_'+str(sample_fraction)+'_'+str(rank)+'_pattern_SVP_RMSE_%.5f' % rmse_svp, 'results')\n",
    "    print 'SVP. Rank: %d. RMSE: %.5f. Time: %d min %d sec.' % (rank_svp, rmse_svp, int(t1-t0) // 60, int(t1-t0) % 60)\n",
    "\n",
    "    t0 = time()\n",
    "    X_si = get_completion(omega, vec_data, rank, dims, 'SoftImpute', int(max_iter), tol)\n",
    "    t1 = time()\n",
    "    rmse_si = RMSE(X_si, M)\n",
    "    rank_si = np.linalg.matrix_rank(X_si)\n",
    "    X_si /= np.max(X_si)\n",
    "    save_image(X_si, str(i+1)+'_'+str(sample_fraction)+'_'+str(rank)+'_pattern_SI_RMSE_%.5f' % rmse_si, 'results')\n",
    "    print ' SI. Rank: %d. RMSE: %.5f. Time: %d min %d sec.' % (rank_si, rmse_si, int(t1-t0) // 60, int(t1-t0) % 60)\n",
    "    print ''"
   ]
  },
  {
   "cell_type": "code",
   "execution_count": 46,
   "metadata": {
    "collapsed": false
   },
   "outputs": [
    {
     "name": "stdout",
     "output_type": "stream",
     "text": [
      "Image: 11_pattern1. Size: 300x500. Rank: 11. Sample fraction: 0.10.\n",
      "SVT. Rank: 45. RMSE: 0.10606. Time: 4 min 28 sec.\n",
      "SVP. Rank: 11. RMSE: 0.00496. Time: 0 min 15 sec.\n",
      " SI. Rank: 300. RMSE: 0.07781. Time: 0 min 5 sec.\n",
      "\n",
      "Image: 11_pattern2. Size: 1000x820. Rank: 11. Sample fraction: 0.10.\n",
      "SVT. Rank: 11. RMSE: 0.00944. Time: 2 min 50 sec.\n",
      "SVP. Rank: 11. RMSE: 0.00387. Time: 0 min 19 sec.\n",
      " SI. Rank: 820. RMSE: 0.05083. Time: 0 min 23 sec.\n",
      "\n",
      "Image: 11_pattern3. Size: 1000x1000. Rank: 11. Sample fraction: 0.10.\n",
      "SVT. Rank: 11. RMSE: 0.00140. Time: 3 min 26 sec.\n",
      "SVP. Rank: 11. RMSE: 0.00175. Time: 0 min 11 sec.\n",
      " SI. Rank: 1000. RMSE: 0.05790. Time: 0 min 27 sec.\n",
      "\n",
      "Image: 11_pattern4. Size: 1000x1000. Rank: 11. Sample fraction: 0.10.\n",
      "SVT. Rank: 11. RMSE: 0.00204. Time: 3 min 48 sec.\n",
      "SVP. Rank: 11. RMSE: 0.00116. Time: 0 min 14 sec.\n",
      " SI. Rank: 1000. RMSE: 0.03344. Time: 0 min 27 sec.\n",
      "\n",
      "Image: 11_pattern5. Size: 600x600. Rank: 11. Sample fraction: 0.10.\n",
      "SVT. Rank: 28. RMSE: 0.01244. Time: 4 min 40 sec.\n",
      "SVP. Rank: 11. RMSE: 0.00302. Time: 0 min 9 sec.\n",
      " SI. Rank: 600. RMSE: 0.05799. Time: 0 min 10 sec.\n",
      "\n"
     ]
    }
   ],
   "source": [
    "for i in xrange(5):\n",
    "    rank = 11\n",
    "    image = load_image('pattern'+str(i+1))\n",
    "    save_image(image, 'small_pattern'+str(i+1), 'original')\n",
    "    gray_image = get_gray_image(image)\n",
    "    reduced_image = get_reduced_image(gray_image, rank)\n",
    "    save_image(reduced_image, str(rank)+'_pattern'+str(i+1), 'low_rank')\n",
    "    M = reduced_image.copy()\n",
    "    sample_fraction = 0.1\n",
    "    dims = M.shape\n",
    "    max_iter = int(1e3)\n",
    "    tol = 1e-3\n",
    "    nsamp = int(sample_fraction * np.prod(dims))\n",
    "\n",
    "    omega = sampling_operator(nsamp, dims)\n",
    "    vec_data = get_sampling_vector(M, omega)\n",
    "    mat_data = get_sampling_matrix(M, omega)\n",
    "    save_image(mat_data, str(i+1)+'_'+str(sample_fraction)+'_'+str(rank)+'_pattern', 'results')\n",
    "    \n",
    "    print 'Image: '+str(rank)+'_pattern'+str(i+1)+'. Size: %dx%d. Rank: %d. Sample fraction: %.2f.' % (M.shape[0], \n",
    "                                                                                                       M.shape[1], \n",
    "                                                                                                       np.linalg.matrix_rank(M),\n",
    "                                                                                                       sample_fraction)\n",
    "\n",
    "    t0 = time()\n",
    "    X_svt = get_completion(omega, vec_data, rank, dims, 'SVT', max_iter, tol)\n",
    "    t1 = time()\n",
    "    rmse_svt = RMSE(X_svt, M)\n",
    "    rank_svt = np.linalg.matrix_rank(X_svt)\n",
    "    X_svt /= np.max(X_svt)\n",
    "    save_image(X_svt, str(i+1)+'_'+str(sample_fraction)+'_'+str(rank)+'_pattern_SVT_RMSE_%.5f' % rmse_svt, 'results')\n",
    "    print 'SVT. Rank: %d. RMSE: %.5f. Time: %d min %d sec.' % (rank_svt, rmse_svt, int(t1-t0) // 60, int(t1-t0) % 60)\n",
    "\n",
    "    t0 = time()\n",
    "    X_svp = get_completion(omega, vec_data, rank, dims, 'SVP', max_iter, tol)\n",
    "    t1 = time()\n",
    "    rmse_svp = RMSE(X_svp, M)\n",
    "    rank_svp = np.linalg.matrix_rank(X_svp)\n",
    "    X_svp /= np.max(X_svp)\n",
    "    save_image(X_svp, str(i+1)+'_'+str(sample_fraction)+'_'+str(rank)+'_pattern_SVP_RMSE_%.5f' % rmse_svp, 'results')\n",
    "    print 'SVP. Rank: %d. RMSE: %.5f. Time: %d min %d sec.' % (rank_svp, rmse_svp, int(t1-t0) // 60, int(t1-t0) % 60)\n",
    "\n",
    "    t0 = time()\n",
    "    X_si = get_completion(omega, vec_data, rank, dims, 'SoftImpute', int(max_iter), tol)\n",
    "    t1 = time()\n",
    "    rmse_si = RMSE(X_si, M)\n",
    "    rank_si = np.linalg.matrix_rank(X_si)\n",
    "    X_si /= np.max(X_si)\n",
    "    save_image(X_si, str(i+1)+'_'+str(sample_fraction)+'_'+str(rank)+'_pattern_SI_RMSE_%.5f' % rmse_si, 'results')\n",
    "    print ' SI. Rank: %d. RMSE: %.5f. Time: %d min %d sec.' % (rank_si, rmse_si, int(t1-t0) // 60, int(t1-t0) % 60)\n",
    "    print ''"
   ]
  },
  {
   "cell_type": "code",
   "execution_count": null,
   "metadata": {
    "collapsed": false
   },
   "outputs": [
    {
     "name": "stdout",
     "output_type": "stream",
     "text": [
      "Image: 7_pattern1. Size: 300x500. Rank: 7. Sample fraction: 0.05.\n"
     ]
    }
   ],
   "source": [
    "for i in xrange(5):\n",
    "    rank = 7\n",
    "    image = load_image('pattern'+str(i+1))\n",
    "    save_image(image, 'small_pattern'+str(i+1), 'original')\n",
    "    gray_image = get_gray_image(image)\n",
    "    reduced_image = get_reduced_image(gray_image, rank)\n",
    "    save_image(reduced_image, str(rank)+'_pattern'+str(i+1), 'low_rank')\n",
    "    M = reduced_image.copy()\n",
    "    sample_fraction = 0.05\n",
    "    dims = M.shape\n",
    "    max_iter = int(1e3)\n",
    "    tol = 1e-3\n",
    "    nsamp = int(sample_fraction * np.prod(dims))\n",
    "\n",
    "    omega = sampling_operator(nsamp, dims)\n",
    "    vec_data = get_sampling_vector(M, omega)\n",
    "    mat_data = get_sampling_matrix(M, omega)\n",
    "    save_image(mat_data, str(i+1)+'_'+str(sample_fraction)+'_'+str(rank)+'_pattern', 'results')\n",
    "    \n",
    "    print 'Image: '+str(rank)+'_pattern'+str(i+1)+'. Size: %dx%d. Rank: %d. Sample fraction: %.2f.' % (M.shape[0], \n",
    "                                                                                                       M.shape[1], \n",
    "                                                                                                       np.linalg.matrix_rank(M),\n",
    "                                                                                                       sample_fraction)\n",
    "\n",
    "    t0 = time()\n",
    "    X_svt = get_completion(omega, vec_data, rank, dims, 'SVT', max_iter, tol)\n",
    "    t1 = time()\n",
    "    rmse_svt = RMSE(X_svt, M)\n",
    "    rank_svt = np.linalg.matrix_rank(X_svt)\n",
    "    X_svt /= np.max(X_svt)\n",
    "    save_image(X_svt, str(i+1)+'_'+str(sample_fraction)+'_'+str(rank)+'_pattern_SVT_RMSE_%.5f' % rmse_svt, 'results')\n",
    "    print 'SVT. Rank: %d. RMSE: %.5f. Time: %d min %d sec.' % (rank_svt, rmse_svt, int(t1-t0) // 60, int(t1-t0) % 60)\n",
    "\n",
    "    t0 = time()\n",
    "    X_svp = get_completion(omega, vec_data, rank, dims, 'SVP', max_iter, tol)\n",
    "    t1 = time()\n",
    "    rmse_svp = RMSE(X_svp, M)\n",
    "    rank_svp = np.linalg.matrix_rank(X_svp)\n",
    "    X_svp /= np.max(X_svp)\n",
    "    save_image(X_svp, str(i+1)+'_'+str(sample_fraction)+'_'+str(rank)+'_pattern_SVP_RMSE_%.5f' % rmse_svp, 'results')\n",
    "    print 'SVP. Rank: %d. RMSE: %.5f. Time: %d min %d sec.' % (rank_svp, rmse_svp, int(t1-t0) // 60, int(t1-t0) % 60)\n",
    "\n",
    "    t0 = time()\n",
    "    X_si = get_completion(omega, vec_data, rank, dims, 'SoftImpute', int(max_iter), tol)\n",
    "    t1 = time()\n",
    "    rmse_si = RMSE(X_si, M)\n",
    "    rank_si = np.linalg.matrix_rank(X_si)\n",
    "    X_si /= np.max(X_si)\n",
    "    save_image(X_si, str(i+1)+'_'+str(sample_fraction)+'_'+str(rank)+'_pattern_SI_RMSE_%.5f' % rmse_si, 'results')\n",
    "    print ' SI. Rank: %d. RMSE: %.5f. Time: %d min %d sec.' % (rank_si, rmse_si, int(t1-t0) // 60, int(t1-t0) % 60)\n",
    "    print ''"
   ]
  },
  {
   "cell_type": "code",
   "execution_count": 45,
   "metadata": {
    "collapsed": false
   },
   "outputs": [
    {
     "name": "stdout",
     "output_type": "stream",
     "text": [
      "Image: 11_pattern1. Size: 300x500. Rank: 11. Sample fraction: 0.05.\n"
     ]
    },
    {
     "ename": "KeyboardInterrupt",
     "evalue": "",
     "output_type": "error",
     "traceback": [
      "\u001b[0;31m---------------------------------------------------------------------------\u001b[0m",
      "\u001b[0;31mKeyboardInterrupt\u001b[0m                         Traceback (most recent call last)",
      "\u001b[0;32m<ipython-input-45-7e60b794feba>\u001b[0m in \u001b[0;36m<module>\u001b[0;34m()\u001b[0m\n\u001b[1;32m     24\u001b[0m \u001b[1;33m\u001b[0m\u001b[0m\n\u001b[1;32m     25\u001b[0m     \u001b[0mt0\u001b[0m \u001b[1;33m=\u001b[0m \u001b[0mtime\u001b[0m\u001b[1;33m(\u001b[0m\u001b[1;33m)\u001b[0m\u001b[1;33m\u001b[0m\u001b[0m\n\u001b[0;32m---> 26\u001b[0;31m     \u001b[0mX_svt\u001b[0m \u001b[1;33m=\u001b[0m \u001b[0mget_completion\u001b[0m\u001b[1;33m(\u001b[0m\u001b[0momega\u001b[0m\u001b[1;33m,\u001b[0m \u001b[0mvec_data\u001b[0m\u001b[1;33m,\u001b[0m \u001b[0mrank\u001b[0m\u001b[1;33m,\u001b[0m \u001b[0mdims\u001b[0m\u001b[1;33m,\u001b[0m \u001b[1;34m'SVT'\u001b[0m\u001b[1;33m,\u001b[0m \u001b[0mmax_iter\u001b[0m\u001b[1;33m,\u001b[0m \u001b[0mtol\u001b[0m\u001b[1;33m)\u001b[0m\u001b[1;33m\u001b[0m\u001b[0m\n\u001b[0m\u001b[1;32m     27\u001b[0m     \u001b[0mt1\u001b[0m \u001b[1;33m=\u001b[0m \u001b[0mtime\u001b[0m\u001b[1;33m(\u001b[0m\u001b[1;33m)\u001b[0m\u001b[1;33m\u001b[0m\u001b[0m\n\u001b[1;32m     28\u001b[0m     \u001b[0mrmse_svt\u001b[0m \u001b[1;33m=\u001b[0m \u001b[0mRMSE\u001b[0m\u001b[1;33m(\u001b[0m\u001b[0mX_svt\u001b[0m\u001b[1;33m,\u001b[0m \u001b[0mM\u001b[0m\u001b[1;33m)\u001b[0m\u001b[1;33m\u001b[0m\u001b[0m\n",
      "\u001b[0;32mC:\\Users\\ilya\\Desktop\\Skoltech\\Term 2\\Project\\roy_project\\lib\\source\\methods.pyc\u001b[0m in \u001b[0;36mget_completion\u001b[0;34m(Omega, m, r, dims, method, max_iter, tol, sparse_type, verbose)\u001b[0m\n\u001b[1;32m     30\u001b[0m     \"\"\"\n\u001b[1;32m     31\u001b[0m     \u001b[1;32mif\u001b[0m \u001b[0mmethod\u001b[0m \u001b[1;33m==\u001b[0m \u001b[1;34m'SVT'\u001b[0m\u001b[1;33m:\u001b[0m\u001b[1;33m\u001b[0m\u001b[0m\n\u001b[0;32m---> 32\u001b[0;31m         \u001b[1;32mreturn\u001b[0m \u001b[0mSVT\u001b[0m\u001b[1;33m(\u001b[0m\u001b[0mOmega\u001b[0m\u001b[1;33m,\u001b[0m \u001b[0mm\u001b[0m\u001b[1;33m,\u001b[0m \u001b[0mdims\u001b[0m\u001b[1;33m,\u001b[0m \u001b[0mmax_iter\u001b[0m\u001b[1;33m,\u001b[0m \u001b[0mtol\u001b[0m\u001b[1;33m,\u001b[0m \u001b[0msparse_type\u001b[0m\u001b[1;33m)\u001b[0m\u001b[1;33m\u001b[0m\u001b[0m\n\u001b[0m\u001b[1;32m     33\u001b[0m     \u001b[1;32melif\u001b[0m \u001b[0mmethod\u001b[0m \u001b[1;33m==\u001b[0m \u001b[1;34m'SoftImpute'\u001b[0m\u001b[1;33m:\u001b[0m\u001b[1;33m\u001b[0m\u001b[0m\n\u001b[1;32m     34\u001b[0m         solver = SoftImpute(max_rank=r, convergence_threshold=tol, verbose=verbose, \n",
      "\u001b[0;32mC:\\Users\\ilya\\Desktop\\Skoltech\\Term 2\\Project\\roy_project\\SVT\\SVT.pyc\u001b[0m in \u001b[0;36mSVT\u001b[0;34m(omega, vec_data, dims, max_iter, tol, sparse_type)\u001b[0m\n\u001b[1;32m     21\u001b[0m         \u001b[0mrpt_inside\u001b[0m \u001b[1;33m=\u001b[0m \u001b[1;36m0\u001b[0m\u001b[1;33m\u001b[0m\u001b[0m\n\u001b[1;32m     22\u001b[0m         \u001b[1;32mwhile\u001b[0m \u001b[1;33m(\u001b[0m\u001b[0msigma\u001b[0m \u001b[1;33m>\u001b[0m \u001b[0mtau\u001b[0m\u001b[1;33m)\u001b[0m \u001b[1;33m&\u001b[0m \u001b[1;33m(\u001b[0m\u001b[0mrpt_inside\u001b[0m \u001b[1;33m<=\u001b[0m \u001b[1;36m1\u001b[0m\u001b[1;33m)\u001b[0m\u001b[1;33m:\u001b[0m\u001b[1;33m\u001b[0m\u001b[0m\n\u001b[0;32m---> 23\u001b[0;31m             \u001b[0mU\u001b[0m\u001b[1;33m,\u001b[0m \u001b[0mS\u001b[0m\u001b[1;33m,\u001b[0m \u001b[0mV\u001b[0m \u001b[1;33m=\u001b[0m \u001b[0msvds\u001b[0m\u001b[1;33m(\u001b[0m\u001b[0mY\u001b[0m\u001b[1;33m,\u001b[0m \u001b[0ms\u001b[0m\u001b[1;33m)\u001b[0m\u001b[1;33m\u001b[0m\u001b[0m\n\u001b[0m\u001b[1;32m     24\u001b[0m             \u001b[1;32mif\u001b[0m \u001b[0mnp\u001b[0m\u001b[1;33m.\u001b[0m\u001b[0msum\u001b[0m\u001b[1;33m(\u001b[0m\u001b[0mS\u001b[0m \u001b[1;33m==\u001b[0m \u001b[1;36m0\u001b[0m\u001b[1;33m)\u001b[0m \u001b[1;33m>\u001b[0m \u001b[1;36m0\u001b[0m\u001b[1;33m:\u001b[0m\u001b[1;33m\u001b[0m\u001b[0m\n\u001b[1;32m     25\u001b[0m                 \u001b[1;32mbreak\u001b[0m\u001b[1;33m\u001b[0m\u001b[0m\n",
      "\u001b[0;32mC:\\Users\\ilya\\Anaconda2\\lib\\site-packages\\scipy\\sparse\\linalg\\eigen\\arpack\\arpack.pyc\u001b[0m in \u001b[0;36msvds\u001b[0;34m(A, k, ncv, tol, which, v0, maxiter, return_singular_vectors)\u001b[0m\n\u001b[1;32m   1752\u001b[0m     \u001b[1;31m# This is not a stable way to approach the problem.\u001b[0m\u001b[1;33m\u001b[0m\u001b[1;33m\u001b[0m\u001b[0m\n\u001b[1;32m   1753\u001b[0m     eigvals, eigvec = eigsh(XH_X, k=k, tol=tol ** 2, maxiter=maxiter,\n\u001b[0;32m-> 1754\u001b[0;31m                                   ncv=ncv, which=which, v0=v0)\n\u001b[0m\u001b[1;32m   1755\u001b[0m \u001b[1;33m\u001b[0m\u001b[0m\n\u001b[1;32m   1756\u001b[0m     \u001b[1;31m# In 'LM' mode try to be clever about small eigenvalues.\u001b[0m\u001b[1;33m\u001b[0m\u001b[1;33m\u001b[0m\u001b[0m\n",
      "\u001b[0;32mC:\\Users\\ilya\\Anaconda2\\lib\\site-packages\\scipy\\sparse\\linalg\\eigen\\arpack\\arpack.pyc\u001b[0m in \u001b[0;36meigsh\u001b[0;34m(A, k, M, sigma, which, v0, ncv, maxiter, tol, return_eigenvectors, Minv, OPinv, mode)\u001b[0m\n\u001b[1;32m   1603\u001b[0m     \u001b[1;32mwith\u001b[0m \u001b[0m_ARPACK_LOCK\u001b[0m\u001b[1;33m:\u001b[0m\u001b[1;33m\u001b[0m\u001b[0m\n\u001b[1;32m   1604\u001b[0m         \u001b[1;32mwhile\u001b[0m \u001b[1;32mnot\u001b[0m \u001b[0mparams\u001b[0m\u001b[1;33m.\u001b[0m\u001b[0mconverged\u001b[0m\u001b[1;33m:\u001b[0m\u001b[1;33m\u001b[0m\u001b[0m\n\u001b[0;32m-> 1605\u001b[0;31m             \u001b[0mparams\u001b[0m\u001b[1;33m.\u001b[0m\u001b[0miterate\u001b[0m\u001b[1;33m(\u001b[0m\u001b[1;33m)\u001b[0m\u001b[1;33m\u001b[0m\u001b[0m\n\u001b[0m\u001b[1;32m   1606\u001b[0m \u001b[1;33m\u001b[0m\u001b[0m\n\u001b[1;32m   1607\u001b[0m         \u001b[1;32mreturn\u001b[0m \u001b[0mparams\u001b[0m\u001b[1;33m.\u001b[0m\u001b[0mextract\u001b[0m\u001b[1;33m(\u001b[0m\u001b[0mreturn_eigenvectors\u001b[0m\u001b[1;33m)\u001b[0m\u001b[1;33m\u001b[0m\u001b[0m\n",
      "\u001b[0;32mC:\\Users\\ilya\\Anaconda2\\lib\\site-packages\\scipy\\sparse\\linalg\\eigen\\arpack\\arpack.pyc\u001b[0m in \u001b[0;36miterate\u001b[0;34m(self)\u001b[0m\n\u001b[1;32m    545\u001b[0m             \u001b[1;31m# compute y = Op*x\u001b[0m\u001b[1;33m\u001b[0m\u001b[1;33m\u001b[0m\u001b[0m\n\u001b[1;32m    546\u001b[0m             \u001b[1;32mif\u001b[0m \u001b[0mself\u001b[0m\u001b[1;33m.\u001b[0m\u001b[0mmode\u001b[0m \u001b[1;33m==\u001b[0m \u001b[1;36m1\u001b[0m\u001b[1;33m:\u001b[0m\u001b[1;33m\u001b[0m\u001b[0m\n\u001b[0;32m--> 547\u001b[0;31m                 \u001b[0mself\u001b[0m\u001b[1;33m.\u001b[0m\u001b[0mworkd\u001b[0m\u001b[1;33m[\u001b[0m\u001b[0myslice\u001b[0m\u001b[1;33m]\u001b[0m \u001b[1;33m=\u001b[0m \u001b[0mself\u001b[0m\u001b[1;33m.\u001b[0m\u001b[0mOP\u001b[0m\u001b[1;33m(\u001b[0m\u001b[0mself\u001b[0m\u001b[1;33m.\u001b[0m\u001b[0mworkd\u001b[0m\u001b[1;33m[\u001b[0m\u001b[0mxslice\u001b[0m\u001b[1;33m]\u001b[0m\u001b[1;33m)\u001b[0m\u001b[1;33m\u001b[0m\u001b[0m\n\u001b[0m\u001b[1;32m    548\u001b[0m             \u001b[1;32melif\u001b[0m \u001b[0mself\u001b[0m\u001b[1;33m.\u001b[0m\u001b[0mmode\u001b[0m \u001b[1;33m==\u001b[0m \u001b[1;36m2\u001b[0m\u001b[1;33m:\u001b[0m\u001b[1;33m\u001b[0m\u001b[0m\n\u001b[1;32m    549\u001b[0m                 \u001b[0mself\u001b[0m\u001b[1;33m.\u001b[0m\u001b[0mworkd\u001b[0m\u001b[1;33m[\u001b[0m\u001b[0mxslice\u001b[0m\u001b[1;33m]\u001b[0m \u001b[1;33m=\u001b[0m \u001b[0mself\u001b[0m\u001b[1;33m.\u001b[0m\u001b[0mOPb\u001b[0m\u001b[1;33m(\u001b[0m\u001b[0mself\u001b[0m\u001b[1;33m.\u001b[0m\u001b[0mworkd\u001b[0m\u001b[1;33m[\u001b[0m\u001b[0mxslice\u001b[0m\u001b[1;33m]\u001b[0m\u001b[1;33m)\u001b[0m\u001b[1;33m\u001b[0m\u001b[0m\n",
      "\u001b[0;32mC:\\Users\\ilya\\Anaconda2\\lib\\site-packages\\scipy\\sparse\\linalg\\interface.pyc\u001b[0m in \u001b[0;36mmatvec\u001b[0;34m(self, x)\u001b[0m\n\u001b[1;32m    217\u001b[0m             \u001b[1;32mraise\u001b[0m \u001b[0mValueError\u001b[0m\u001b[1;33m(\u001b[0m\u001b[1;34m'dimension mismatch'\u001b[0m\u001b[1;33m)\u001b[0m\u001b[1;33m\u001b[0m\u001b[0m\n\u001b[1;32m    218\u001b[0m \u001b[1;33m\u001b[0m\u001b[0m\n\u001b[0;32m--> 219\u001b[0;31m         \u001b[0my\u001b[0m \u001b[1;33m=\u001b[0m \u001b[0mself\u001b[0m\u001b[1;33m.\u001b[0m\u001b[0m_matvec\u001b[0m\u001b[1;33m(\u001b[0m\u001b[0mx\u001b[0m\u001b[1;33m)\u001b[0m\u001b[1;33m\u001b[0m\u001b[0m\n\u001b[0m\u001b[1;32m    220\u001b[0m \u001b[1;33m\u001b[0m\u001b[0m\n\u001b[1;32m    221\u001b[0m         \u001b[1;32mif\u001b[0m \u001b[0misinstance\u001b[0m\u001b[1;33m(\u001b[0m\u001b[0mx\u001b[0m\u001b[1;33m,\u001b[0m \u001b[0mnp\u001b[0m\u001b[1;33m.\u001b[0m\u001b[0mmatrix\u001b[0m\u001b[1;33m)\u001b[0m\u001b[1;33m:\u001b[0m\u001b[1;33m\u001b[0m\u001b[0m\n",
      "\u001b[0;32mC:\\Users\\ilya\\Anaconda2\\lib\\site-packages\\scipy\\sparse\\linalg\\interface.pyc\u001b[0m in \u001b[0;36m_matvec\u001b[0;34m(self, x)\u001b[0m\n\u001b[1;32m    469\u001b[0m \u001b[1;33m\u001b[0m\u001b[0m\n\u001b[1;32m    470\u001b[0m     \u001b[1;32mdef\u001b[0m \u001b[0m_matvec\u001b[0m\u001b[1;33m(\u001b[0m\u001b[0mself\u001b[0m\u001b[1;33m,\u001b[0m \u001b[0mx\u001b[0m\u001b[1;33m)\u001b[0m\u001b[1;33m:\u001b[0m\u001b[1;33m\u001b[0m\u001b[0m\n\u001b[0;32m--> 471\u001b[0;31m         \u001b[1;32mreturn\u001b[0m \u001b[0mself\u001b[0m\u001b[1;33m.\u001b[0m\u001b[0m__matvec_impl\u001b[0m\u001b[1;33m(\u001b[0m\u001b[0mx\u001b[0m\u001b[1;33m)\u001b[0m\u001b[1;33m\u001b[0m\u001b[0m\n\u001b[0m\u001b[1;32m    472\u001b[0m \u001b[1;33m\u001b[0m\u001b[0m\n\u001b[1;32m    473\u001b[0m     \u001b[1;32mdef\u001b[0m \u001b[0m_rmatvec\u001b[0m\u001b[1;33m(\u001b[0m\u001b[0mself\u001b[0m\u001b[1;33m,\u001b[0m \u001b[0mx\u001b[0m\u001b[1;33m)\u001b[0m\u001b[1;33m:\u001b[0m\u001b[1;33m\u001b[0m\u001b[0m\n",
      "\u001b[0;32mC:\\Users\\ilya\\Anaconda2\\lib\\site-packages\\scipy\\sparse\\linalg\\eigen\\arpack\\arpack.pyc\u001b[0m in \u001b[0;36mmatvec_XH_X\u001b[0;34m(x)\u001b[0m\n\u001b[1;32m   1744\u001b[0m \u001b[1;33m\u001b[0m\u001b[0m\n\u001b[1;32m   1745\u001b[0m     \u001b[1;32mdef\u001b[0m \u001b[0mmatvec_XH_X\u001b[0m\u001b[1;33m(\u001b[0m\u001b[0mx\u001b[0m\u001b[1;33m)\u001b[0m\u001b[1;33m:\u001b[0m\u001b[1;33m\u001b[0m\u001b[0m\n\u001b[0;32m-> 1746\u001b[0;31m         \u001b[1;32mreturn\u001b[0m \u001b[0mXH_dot\u001b[0m\u001b[1;33m(\u001b[0m\u001b[0mX_dot\u001b[0m\u001b[1;33m(\u001b[0m\u001b[0mx\u001b[0m\u001b[1;33m)\u001b[0m\u001b[1;33m)\u001b[0m\u001b[1;33m\u001b[0m\u001b[0m\n\u001b[0m\u001b[1;32m   1747\u001b[0m \u001b[1;33m\u001b[0m\u001b[0m\n\u001b[1;32m   1748\u001b[0m     XH_X = LinearOperator(matvec=matvec_XH_X, dtype=A.dtype,\n",
      "\u001b[0;31mKeyboardInterrupt\u001b[0m: "
     ]
    }
   ],
   "source": [
    "for i in xrange(5):\n",
    "    rank = 11\n",
    "    image = load_image('pattern'+str(i+1))\n",
    "    save_image(image, 'small_pattern'+str(i+1), 'original')\n",
    "    gray_image = get_gray_image(image)\n",
    "    reduced_image = get_reduced_image(gray_image, rank)\n",
    "    save_image(reduced_image, str(rank)+'_pattern'+str(i+1), 'low_rank')\n",
    "    M = reduced_image.copy()\n",
    "    sample_fraction = 0.05\n",
    "    dims = M.shape\n",
    "    max_iter = int(1e3)\n",
    "    tol = 1e-3\n",
    "    nsamp = int(sample_fraction * np.prod(dims))\n",
    "\n",
    "    omega = sampling_operator(nsamp, dims)\n",
    "    vec_data = get_sampling_vector(M, omega)\n",
    "    mat_data = get_sampling_matrix(M, omega)\n",
    "    save_image(mat_data, str(i+1)+'_'+str(sample_fraction)+'_'+str(rank)+'_pattern', 'results')\n",
    "    \n",
    "    print 'Image: '+str(rank)+'_pattern'+str(i+1)+'. Size: %dx%d. Rank: %d. Sample fraction: %.2f.' % (M.shape[0], \n",
    "                                                                                                       M.shape[1], \n",
    "                                                                                                       np.linalg.matrix_rank(M),\n",
    "                                                                                                       sample_fraction)\n",
    "\n",
    "    t0 = time()\n",
    "    X_svt = get_completion(omega, vec_data, rank, dims, 'SVT', max_iter, tol)\n",
    "    t1 = time()\n",
    "    rmse_svt = RMSE(X_svt, M)\n",
    "    rank_svt = np.linalg.matrix_rank(X_svt)\n",
    "    X_svt /= np.max(X_svt)\n",
    "    save_image(X_svt, str(i+1)+'_'+str(sample_fraction)+'_'+str(rank)+'_pattern_SVT_RMSE_%.5f' % rmse_svt, 'results')\n",
    "    print 'SVT. Rank: %d. RMSE: %.5f. Time: %d min %d sec.' % (rank_svt, rmse_svt, int(t1-t0) // 60, int(t1-t0) % 60)\n",
    "\n",
    "    t0 = time()\n",
    "    X_svp = get_completion(omega, vec_data, rank, dims, 'SVP', max_iter, tol)\n",
    "    t1 = time()\n",
    "    rmse_svp = RMSE(X_svp, M)\n",
    "    rank_svp = np.linalg.matrix_rank(X_svp)\n",
    "    X_svp /= np.max(X_svp)\n",
    "    save_image(X_svp, str(i+1)+'_'+str(sample_fraction)+'_'+str(rank)+'_pattern_SVP_RMSE_%.5f' % rmse_svp, 'results')\n",
    "    print 'SVP. Rank: %d. RMSE: %.5f. Time: %d min %d sec.' % (rank_svp, rmse_svp, int(t1-t0) // 60, int(t1-t0) % 60)\n",
    "\n",
    "    t0 = time()\n",
    "    X_si = get_completion(omega, vec_data, rank, dims, 'SoftImpute', int(max_iter), tol)\n",
    "    t1 = time()\n",
    "    rmse_si = RMSE(X_si, M)\n",
    "    rank_si = np.linalg.matrix_rank(X_si)\n",
    "    X_si /= np.max(X_si)\n",
    "    save_image(X_si, str(i+1)+'_'+str(sample_fraction)+'_'+str(rank)+'_pattern_SI_RMSE_%.5f' % rmse_si, 'results')\n",
    "    print ' SI. Rank: %d. RMSE: %.5f. Time: %d min %d sec.' % (rank_si, rmse_si, int(t1-t0) // 60, int(t1-t0) % 60)\n",
    "    print ''"
   ]
  },
  {
   "cell_type": "code",
   "execution_count": null,
   "metadata": {
    "collapsed": true
   },
   "outputs": [],
   "source": []
  }
 ],
 "metadata": {
  "anaconda-cloud": {},
  "kernelspec": {
   "display_name": "Python [default]",
   "language": "python",
   "name": "python2"
  },
  "language_info": {
   "codemirror_mode": {
    "name": "ipython",
    "version": 2
   },
   "file_extension": ".py",
   "mimetype": "text/x-python",
   "name": "python",
   "nbconvert_exporter": "python",
   "pygments_lexer": "ipython2",
   "version": "2.7.12"
  }
 },
 "nbformat": 4,
 "nbformat_minor": 1
}
